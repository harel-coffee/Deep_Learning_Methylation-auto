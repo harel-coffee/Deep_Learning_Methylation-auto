{
  "nbformat": 4,
  "nbformat_minor": 0,
  "metadata": {
    "colab": {
      "name": "wide_to_long.ipynb",
      "provenance": [],
      "collapsed_sections": []
    },
    "kernelspec": {
      "name": "python3",
      "display_name": "Python 3"
    },
    "language_info": {
      "name": "python"
    }
  },
  "cells": [
    {
      "cell_type": "code",
      "metadata": {
        "colab": {
          "base_uri": "https://localhost:8080/"
        },
        "id": "Lw1YM6a4aWUz",
        "outputId": "1fa23f0f-a80e-4384-d3df-692962799669"
      },
      "source": [
        "import pandas as pd\n",
        "from google.colab import drive\n",
        "drive.mount('/content/drive', force_remount = True)"
      ],
      "execution_count": null,
      "outputs": [
        {
          "output_type": "stream",
          "name": "stdout",
          "text": [
            "Mounted at /content/drive\n"
          ]
        }
      ]
    },
    {
      "cell_type": "code",
      "metadata": {
        "id": "knco7V56a_cB"
      },
      "source": [
        "# Define Path\n",
        "in_csv = 'drive/My Drive/Colab Notebooks/DL Gomes Lab/wide_to_long/MarkerData_450k_All_Modified.csv'\n",
        "out_csv = 'drive/My Drive/Colab Notebooks/DL Gomes Lab/wide_to_long/MarkerData_450k_All_Modified_Long.csv'"
      ],
      "execution_count": null,
      "outputs": []
    },
    {
      "cell_type": "code",
      "metadata": {
        "colab": {
          "base_uri": "https://localhost:8080/",
          "height": 365
        },
        "id": "731Pj81ib3oO",
        "outputId": "e3a2d36f-5b63-48d5-d86f-e47f07aa6161"
      },
      "source": [
        "# Read CSV\n",
        "df_wide = pd.read_csv(in_csv)\n",
        "df_wide.head()"
      ],
      "execution_count": null,
      "outputs": [
        {
          "output_type": "stream",
          "name": "stderr",
          "text": [
            "/usr/local/lib/python3.7/dist-packages/IPython/core/interactiveshell.py:2718: DtypeWarning: Columns (27,28,29,30,31) have mixed types.Specify dtype option on import or set low_memory=False.\n",
            "  interactivity=interactivity, compiler=compiler, result=result)\n"
          ]
        },
        {
          "output_type": "execute_result",
          "data": {
            "text/html": [
              "<div>\n",
              "<style scoped>\n",
              "    .dataframe tbody tr th:only-of-type {\n",
              "        vertical-align: middle;\n",
              "    }\n",
              "\n",
              "    .dataframe tbody tr th {\n",
              "        vertical-align: top;\n",
              "    }\n",
              "\n",
              "    .dataframe thead th {\n",
              "        text-align: right;\n",
              "    }\n",
              "</style>\n",
              "<table border=\"1\" class=\"dataframe\">\n",
              "  <thead>\n",
              "    <tr style=\"text-align: right;\">\n",
              "      <th></th>\n",
              "      <th>Unnamed: 0</th>\n",
              "      <th>Composite_Element_REF</th>\n",
              "      <th>Chromosome</th>\n",
              "      <th>Start</th>\n",
              "      <th>End</th>\n",
              "      <th>Gene_Type</th>\n",
              "      <th>Transcript_ID</th>\n",
              "      <th>Position_to_TSS</th>\n",
              "      <th>CGI_Coordinate</th>\n",
              "      <th>Feature_Type</th>\n",
              "      <th>Gene_Symbol_0</th>\n",
              "      <th>Gene_Symbol_1</th>\n",
              "      <th>Gene_Symbol_2</th>\n",
              "      <th>Gene_Symbol_3</th>\n",
              "      <th>Gene_Symbol_4</th>\n",
              "      <th>Gene_Symbol_5</th>\n",
              "      <th>Gene_Symbol_6</th>\n",
              "      <th>Gene_Symbol_7</th>\n",
              "      <th>Gene_Symbol_8</th>\n",
              "      <th>Gene_Symbol_9</th>\n",
              "      <th>Gene_Symbol_10</th>\n",
              "      <th>Gene_Symbol_11</th>\n",
              "      <th>Gene_Symbol_12</th>\n",
              "      <th>Gene_Symbol_13</th>\n",
              "      <th>Gene_Symbol_14</th>\n",
              "      <th>Gene_Symbol_15</th>\n",
              "      <th>Gene_Symbol_16</th>\n",
              "      <th>Gene_Symbol_17</th>\n",
              "      <th>Gene_Symbol_18</th>\n",
              "      <th>Gene_Symbol_19</th>\n",
              "      <th>Gene_Symbol_20</th>\n",
              "      <th>Gene_Symbol_21</th>\n",
              "    </tr>\n",
              "  </thead>\n",
              "  <tbody>\n",
              "    <tr>\n",
              "      <th>0</th>\n",
              "      <td>0</td>\n",
              "      <td>cg00000029</td>\n",
              "      <td>chr16</td>\n",
              "      <td>53434200.0</td>\n",
              "      <td>53434201.0</td>\n",
              "      <td>protein_coding;protein_coding;protein_coding</td>\n",
              "      <td>ENST00000262133.9;ENST00000544405.5;ENST000005...</td>\n",
              "      <td>-221;-1420;222</td>\n",
              "      <td>CGI:chr16:53434489-53435297</td>\n",
              "      <td>N_Shore</td>\n",
              "      <td>RBL2</td>\n",
              "      <td>0</td>\n",
              "      <td>0</td>\n",
              "      <td>0</td>\n",
              "      <td>0</td>\n",
              "      <td>0</td>\n",
              "      <td>0</td>\n",
              "      <td>0</td>\n",
              "      <td>0</td>\n",
              "      <td>0</td>\n",
              "      <td>0</td>\n",
              "      <td>0</td>\n",
              "      <td>0</td>\n",
              "      <td>0</td>\n",
              "      <td>0</td>\n",
              "      <td>0</td>\n",
              "      <td>0</td>\n",
              "      <td>0</td>\n",
              "      <td>0</td>\n",
              "      <td>0</td>\n",
              "      <td>0</td>\n",
              "      <td>0</td>\n",
              "    </tr>\n",
              "    <tr>\n",
              "      <th>1</th>\n",
              "      <td>1</td>\n",
              "      <td>cg00000108</td>\n",
              "      <td>chr3</td>\n",
              "      <td>37417715.0</td>\n",
              "      <td>37417716.0</td>\n",
              "      <td>lincRNA;lincRNA;lincRNA;lincRNA;lincRNA;lincRN...</td>\n",
              "      <td>ENST00000328376.8;ENST00000332506.6;ENST000004...</td>\n",
              "      <td>18552;18552;6505;31445;18143;447;18552;18552</td>\n",
              "      <td>CGI:chr3:37451927-37453047</td>\n",
              "      <td>OpenSea</td>\n",
              "      <td>C3orf35</td>\n",
              "      <td>0</td>\n",
              "      <td>0</td>\n",
              "      <td>0</td>\n",
              "      <td>0</td>\n",
              "      <td>0</td>\n",
              "      <td>0</td>\n",
              "      <td>0</td>\n",
              "      <td>0</td>\n",
              "      <td>0</td>\n",
              "      <td>0</td>\n",
              "      <td>0</td>\n",
              "      <td>0</td>\n",
              "      <td>0</td>\n",
              "      <td>0</td>\n",
              "      <td>0</td>\n",
              "      <td>0</td>\n",
              "      <td>0</td>\n",
              "      <td>0</td>\n",
              "      <td>0</td>\n",
              "      <td>0</td>\n",
              "      <td>0</td>\n",
              "    </tr>\n",
              "    <tr>\n",
              "      <th>2</th>\n",
              "      <td>2</td>\n",
              "      <td>cg00000109</td>\n",
              "      <td>chr3</td>\n",
              "      <td>172198247.0</td>\n",
              "      <td>172198248.0</td>\n",
              "      <td>protein_coding;protein_coding;protein_coding;p...</td>\n",
              "      <td>ENST00000336824.7;ENST00000415807.5;ENST000004...</td>\n",
              "      <td>157692;158618;151333;71272;158587;71273</td>\n",
              "      <td>CGI:chr3:172039703-172040934</td>\n",
              "      <td>OpenSea</td>\n",
              "      <td>FNDC3B</td>\n",
              "      <td>0</td>\n",
              "      <td>0</td>\n",
              "      <td>0</td>\n",
              "      <td>0</td>\n",
              "      <td>0</td>\n",
              "      <td>0</td>\n",
              "      <td>0</td>\n",
              "      <td>0</td>\n",
              "      <td>0</td>\n",
              "      <td>0</td>\n",
              "      <td>0</td>\n",
              "      <td>0</td>\n",
              "      <td>0</td>\n",
              "      <td>0</td>\n",
              "      <td>0</td>\n",
              "      <td>0</td>\n",
              "      <td>0</td>\n",
              "      <td>0</td>\n",
              "      <td>0</td>\n",
              "      <td>0</td>\n",
              "      <td>0</td>\n",
              "    </tr>\n",
              "    <tr>\n",
              "      <th>3</th>\n",
              "      <td>3</td>\n",
              "      <td>cg00000165</td>\n",
              "      <td>chr1</td>\n",
              "      <td>90729117.0</td>\n",
              "      <td>90729118.0</td>\n",
              "      <td>OpenSea</td>\n",
              "      <td>OpenSea</td>\n",
              "      <td>OpenSea</td>\n",
              "      <td>CGI:chr1:90724932-90727247</td>\n",
              "      <td>S_Shore</td>\n",
              "      <td>OpenSea</td>\n",
              "      <td>0</td>\n",
              "      <td>0</td>\n",
              "      <td>0</td>\n",
              "      <td>0</td>\n",
              "      <td>0</td>\n",
              "      <td>0</td>\n",
              "      <td>0</td>\n",
              "      <td>0</td>\n",
              "      <td>0</td>\n",
              "      <td>0</td>\n",
              "      <td>0</td>\n",
              "      <td>0</td>\n",
              "      <td>0</td>\n",
              "      <td>0</td>\n",
              "      <td>0</td>\n",
              "      <td>0</td>\n",
              "      <td>0</td>\n",
              "      <td>0</td>\n",
              "      <td>0</td>\n",
              "      <td>0</td>\n",
              "      <td>0</td>\n",
              "    </tr>\n",
              "    <tr>\n",
              "      <th>4</th>\n",
              "      <td>4</td>\n",
              "      <td>cg00000236</td>\n",
              "      <td>chr8</td>\n",
              "      <td>42405776.0</td>\n",
              "      <td>42405777.0</td>\n",
              "      <td>protein_coding</td>\n",
              "      <td>ENST00000022615.7</td>\n",
              "      <td>13872</td>\n",
              "      <td>CGI:chr8:42410918-42411241</td>\n",
              "      <td>OpenSea</td>\n",
              "      <td>VDAC3</td>\n",
              "      <td>0</td>\n",
              "      <td>0</td>\n",
              "      <td>0</td>\n",
              "      <td>0</td>\n",
              "      <td>0</td>\n",
              "      <td>0</td>\n",
              "      <td>0</td>\n",
              "      <td>0</td>\n",
              "      <td>0</td>\n",
              "      <td>0</td>\n",
              "      <td>0</td>\n",
              "      <td>0</td>\n",
              "      <td>0</td>\n",
              "      <td>0</td>\n",
              "      <td>0</td>\n",
              "      <td>0</td>\n",
              "      <td>0</td>\n",
              "      <td>0</td>\n",
              "      <td>0</td>\n",
              "      <td>0</td>\n",
              "      <td>0</td>\n",
              "    </tr>\n",
              "  </tbody>\n",
              "</table>\n",
              "</div>"
            ],
            "text/plain": [
              "   Unnamed: 0 Composite_Element_REF  ... Gene_Symbol_20  Gene_Symbol_21\n",
              "0           0            cg00000029  ...              0               0\n",
              "1           1            cg00000108  ...              0               0\n",
              "2           2            cg00000109  ...              0               0\n",
              "3           3            cg00000165  ...              0               0\n",
              "4           4            cg00000236  ...              0               0\n",
              "\n",
              "[5 rows x 32 columns]"
            ]
          },
          "metadata": {},
          "execution_count": 21
        }
      ]
    },
    {
      "cell_type": "markdown",
      "metadata": {
        "id": "RrR5XLXvb7Zc"
      },
      "source": [
        ""
      ]
    },
    {
      "cell_type": "code",
      "metadata": {
        "id": "XTvqMn1sbCxI"
      },
      "source": [
        "#Drop unecassary column\n",
        "#df_wide = df_wide.drop(labels=['Unnamed: 0'], axis=1)\n",
        "\n",
        "#convert from wide to long by Gene_Symbol\n",
        "df_long = pd.wide_to_long(df_wide, stubnames='Gene_Symbol', i='Composite_Element_REF', j = 'Symbol Num', sep = '_')"
      ],
      "execution_count": null,
      "outputs": []
    },
    {
      "cell_type": "code",
      "metadata": {
        "colab": {
          "base_uri": "https://localhost:8080/",
          "height": 165
        },
        "id": "D9MnpjhWg9Y0",
        "outputId": "a43ca69c-7c15-4ee4-8a3f-3ef1daf411ee"
      },
      "source": [
        "df_wide.shape"
      ],
      "execution_count": null,
      "outputs": [
        {
          "output_type": "error",
          "ename": "NameError",
          "evalue": "ignored",
          "traceback": [
            "\u001b[0;31m---------------------------------------------------------------------------\u001b[0m",
            "\u001b[0;31mNameError\u001b[0m                                 Traceback (most recent call last)",
            "\u001b[0;32m<ipython-input-1-c7259135bdbf>\u001b[0m in \u001b[0;36m<module>\u001b[0;34m()\u001b[0m\n\u001b[0;32m----> 1\u001b[0;31m \u001b[0mdf_wide\u001b[0m\u001b[0;34m.\u001b[0m\u001b[0mshape\u001b[0m\u001b[0;34m\u001b[0m\u001b[0;34m\u001b[0m\u001b[0m\n\u001b[0m",
            "\u001b[0;31mNameError\u001b[0m: name 'df_wide' is not defined"
          ]
        }
      ]
    },
    {
      "cell_type": "code",
      "metadata": {
        "id": "TPc1VA_pbj0i"
      },
      "source": [
        "#Reorder Columns\n",
        "cols_order = ['Chromosome', 'Start', 'End', 'Gene_Type', 'Transcript_ID', 'Position_to_TSS', 'CGI_Coordinate', 'Feature_Type', 'Gene_Symbol']\n",
        "df_ordered_long = df_long[cols_order]"
      ],
      "execution_count": null,
      "outputs": []
    },
    {
      "cell_type": "code",
      "metadata": {
        "id": "vJcdUXPFcbvp",
        "colab": {
          "base_uri": "https://localhost:8080/"
        },
        "outputId": "3c45e2c4-671b-47fb-a12f-1ccec5dbb0bd"
      },
      "source": [
        "index_names = df_ordered_long[df_ordered_long['Gene_Symbol'] == '0'].index\n",
        "print(index_names)\n",
        "df_ordered_long = df_ordered_long.drop(index_names)"
      ],
      "execution_count": null,
      "outputs": [
        {
          "output_type": "stream",
          "name": "stdout",
          "text": [
            "MultiIndex([('cg00000029', 20),\n",
            "            ('cg00000029',  2),\n",
            "            ('cg00000029',  8),\n",
            "            ('cg00000029', 14),\n",
            "            ('cg00000029', 10),\n",
            "            ('cg00000029', 19),\n",
            "            ('cg00000029',  3),\n",
            "            ('cg00000029', 16),\n",
            "            ('cg00000029', 15),\n",
            "            ('cg00000029',  1),\n",
            "            ...\n",
            "            ( 'rs9839873', 16),\n",
            "            ( 'rs9839873',  4),\n",
            "            ( 'rs9839873', 17),\n",
            "            ( 'rs9839873',  3),\n",
            "            ( 'rs9839873',  2),\n",
            "            ( 'rs9839873', 18),\n",
            "            ( 'rs9839873',  1),\n",
            "            ( 'rs9839873', 19),\n",
            "            ( 'rs9839873',  7),\n",
            "            ( 'rs9839873', 21)],\n",
            "           names=['Composite_Element_REF', 'Symbol Num'], length=9650061)\n"
          ]
        }
      ]
    },
    {
      "cell_type": "code",
      "metadata": {
        "id": "hdS4ntcfbvzw"
      },
      "source": [
        "#Sort by Composite Element REF and secondarily by Symbol Num\n",
        "df_ordered_long = df_ordered_long.sort_values(by=[df_ordered_long.index.names[0],df_ordered_long.index.names[1]])"
      ],
      "execution_count": null,
      "outputs": []
    },
    {
      "cell_type": "code",
      "metadata": {
        "colab": {
          "base_uri": "https://localhost:8080/"
        },
        "id": "hFhKY7oDfQw5",
        "outputId": "0bdeb91d-8ace-4a0f-afbf-e5d988ff5a6e"
      },
      "source": [
        "df_ordered_long.shape"
      ],
      "execution_count": null,
      "outputs": [
        {
          "output_type": "execute_result",
          "data": {
            "text/plain": [
              "(623033, 9)"
            ]
          },
          "metadata": {},
          "execution_count": 37
        }
      ]
    },
    {
      "cell_type": "code",
      "metadata": {
        "colab": {
          "base_uri": "https://localhost:8080/",
          "height": 666
        },
        "id": "byVFMiBaK-LS",
        "outputId": "4b53e28f-f463-4398-c655-bbbe60654ce1"
      },
      "source": [
        "df_ordered_long.head(100)"
      ],
      "execution_count": null,
      "outputs": [
        {
          "output_type": "execute_result",
          "data": {
            "text/html": [
              "<div>\n",
              "<style scoped>\n",
              "    .dataframe tbody tr th:only-of-type {\n",
              "        vertical-align: middle;\n",
              "    }\n",
              "\n",
              "    .dataframe tbody tr th {\n",
              "        vertical-align: top;\n",
              "    }\n",
              "\n",
              "    .dataframe thead th {\n",
              "        text-align: right;\n",
              "    }\n",
              "</style>\n",
              "<table border=\"1\" class=\"dataframe\">\n",
              "  <thead>\n",
              "    <tr style=\"text-align: right;\">\n",
              "      <th></th>\n",
              "      <th></th>\n",
              "      <th>Chromosome</th>\n",
              "      <th>Start</th>\n",
              "      <th>End</th>\n",
              "      <th>Gene_Type</th>\n",
              "      <th>Transcript_ID</th>\n",
              "      <th>Position_to_TSS</th>\n",
              "      <th>CGI_Coordinate</th>\n",
              "      <th>Feature_Type</th>\n",
              "      <th>Gene_Symbol</th>\n",
              "    </tr>\n",
              "    <tr>\n",
              "      <th>Composite_Element_REF</th>\n",
              "      <th>Symbol Num</th>\n",
              "      <th></th>\n",
              "      <th></th>\n",
              "      <th></th>\n",
              "      <th></th>\n",
              "      <th></th>\n",
              "      <th></th>\n",
              "      <th></th>\n",
              "      <th></th>\n",
              "      <th></th>\n",
              "    </tr>\n",
              "  </thead>\n",
              "  <tbody>\n",
              "    <tr>\n",
              "      <th>cg00000029</th>\n",
              "      <th>0</th>\n",
              "      <td>chr16</td>\n",
              "      <td>53434200.0</td>\n",
              "      <td>53434201.0</td>\n",
              "      <td>protein_coding;protein_coding;protein_coding</td>\n",
              "      <td>ENST00000262133.9;ENST00000544405.5;ENST000005...</td>\n",
              "      <td>-221;-1420;222</td>\n",
              "      <td>CGI:chr16:53434489-53435297</td>\n",
              "      <td>N_Shore</td>\n",
              "      <td>RBL2</td>\n",
              "    </tr>\n",
              "    <tr>\n",
              "      <th>cg00000108</th>\n",
              "      <th>0</th>\n",
              "      <td>chr3</td>\n",
              "      <td>37417715.0</td>\n",
              "      <td>37417716.0</td>\n",
              "      <td>lincRNA;lincRNA;lincRNA;lincRNA;lincRNA;lincRN...</td>\n",
              "      <td>ENST00000328376.8;ENST00000332506.6;ENST000004...</td>\n",
              "      <td>18552;18552;6505;31445;18143;447;18552;18552</td>\n",
              "      <td>CGI:chr3:37451927-37453047</td>\n",
              "      <td>OpenSea</td>\n",
              "      <td>C3orf35</td>\n",
              "    </tr>\n",
              "    <tr>\n",
              "      <th>cg00000109</th>\n",
              "      <th>0</th>\n",
              "      <td>chr3</td>\n",
              "      <td>172198247.0</td>\n",
              "      <td>172198248.0</td>\n",
              "      <td>protein_coding;protein_coding;protein_coding;p...</td>\n",
              "      <td>ENST00000336824.7;ENST00000415807.5;ENST000004...</td>\n",
              "      <td>157692;158618;151333;71272;158587;71273</td>\n",
              "      <td>CGI:chr3:172039703-172040934</td>\n",
              "      <td>OpenSea</td>\n",
              "      <td>FNDC3B</td>\n",
              "    </tr>\n",
              "    <tr>\n",
              "      <th>cg00000165</th>\n",
              "      <th>0</th>\n",
              "      <td>chr1</td>\n",
              "      <td>90729117.0</td>\n",
              "      <td>90729118.0</td>\n",
              "      <td>OpenSea</td>\n",
              "      <td>OpenSea</td>\n",
              "      <td>OpenSea</td>\n",
              "      <td>CGI:chr1:90724932-90727247</td>\n",
              "      <td>S_Shore</td>\n",
              "      <td>OpenSea</td>\n",
              "    </tr>\n",
              "    <tr>\n",
              "      <th>cg00000236</th>\n",
              "      <th>0</th>\n",
              "      <td>chr8</td>\n",
              "      <td>42405776.0</td>\n",
              "      <td>42405777.0</td>\n",
              "      <td>protein_coding</td>\n",
              "      <td>ENST00000022615.7</td>\n",
              "      <td>13872</td>\n",
              "      <td>CGI:chr8:42410918-42411241</td>\n",
              "      <td>OpenSea</td>\n",
              "      <td>VDAC3</td>\n",
              "    </tr>\n",
              "    <tr>\n",
              "      <th>...</th>\n",
              "      <th>...</th>\n",
              "      <td>...</td>\n",
              "      <td>...</td>\n",
              "      <td>...</td>\n",
              "      <td>...</td>\n",
              "      <td>...</td>\n",
              "      <td>...</td>\n",
              "      <td>...</td>\n",
              "      <td>...</td>\n",
              "      <td>...</td>\n",
              "    </tr>\n",
              "    <tr>\n",
              "      <th>cg00003173</th>\n",
              "      <th>1</th>\n",
              "      <td>chr3</td>\n",
              "      <td>14125250.0</td>\n",
              "      <td>14125251.0</td>\n",
              "      <td>protein_coding;protein_coding;protein_coding;p...</td>\n",
              "      <td>ENST00000295767.8;ENST00000396914.3;ENST000004...</td>\n",
              "      <td>-379;-391;-500;309;234</td>\n",
              "      <td>CGI:chr3:14124217-14125499</td>\n",
              "      <td>Island</td>\n",
              "      <td>CHCHD4</td>\n",
              "    </tr>\n",
              "    <tr>\n",
              "      <th>cg00003181</th>\n",
              "      <th>0</th>\n",
              "      <td>chr6</td>\n",
              "      <td>145836231.0</td>\n",
              "      <td>145836232.0</td>\n",
              "      <td>antisense;antisense;antisense;antisense;antise...</td>\n",
              "      <td>ENST00000452617.4;ENST00000587426.4;ENST000005...</td>\n",
              "      <td>21335;20932;20932;20932;20932;21318;20852;2135...</td>\n",
              "      <td>CGI:chr6:145815189-145815428</td>\n",
              "      <td>OpenSea</td>\n",
              "      <td>RP11-545I5.3</td>\n",
              "    </tr>\n",
              "    <tr>\n",
              "      <th>cg00003187</th>\n",
              "      <th>0</th>\n",
              "      <td>chr1</td>\n",
              "      <td>8679922.0</td>\n",
              "      <td>8679923.0</td>\n",
              "      <td>protein_coding;protein_coding;protein_coding;p...</td>\n",
              "      <td>ENST00000337907.6;ENST00000400908.5;ENST000004...</td>\n",
              "      <td>137544;137722;23298;73917</td>\n",
              "      <td>CGI:chr1:8702946-8703521</td>\n",
              "      <td>OpenSea</td>\n",
              "      <td>RERE</td>\n",
              "    </tr>\n",
              "    <tr>\n",
              "      <th rowspan=\"2\" valign=\"top\">cg00003202</th>\n",
              "      <th>0</th>\n",
              "      <td>chr1</td>\n",
              "      <td>151347036.0</td>\n",
              "      <td>151347037.0</td>\n",
              "      <td>protein_coding;protein_coding;protein_coding;p...</td>\n",
              "      <td>ENST00000290524.7;ENST00000368870.5;ENST000003...</td>\n",
              "      <td>216;291;-213;193;171;-14;193;-217;-163;257;258...</td>\n",
              "      <td>CGI:chr1:151346850-151347069</td>\n",
              "      <td>Island</td>\n",
              "      <td>RFX5</td>\n",
              "    </tr>\n",
              "    <tr>\n",
              "      <th>1</th>\n",
              "      <td>chr1</td>\n",
              "      <td>151347036.0</td>\n",
              "      <td>151347037.0</td>\n",
              "      <td>protein_coding;protein_coding;protein_coding;p...</td>\n",
              "      <td>ENST00000290524.7;ENST00000368870.5;ENST000003...</td>\n",
              "      <td>216;291;-213;193;171;-14;193;-217;-163;257;258...</td>\n",
              "      <td>CGI:chr1:151346850-151347069</td>\n",
              "      <td>Island</td>\n",
              "      <td>RP11-126K1.6</td>\n",
              "    </tr>\n",
              "  </tbody>\n",
              "</table>\n",
              "<p>100 rows × 9 columns</p>\n",
              "</div>"
            ],
            "text/plain": [
              "                                 Chromosome  ...   Gene_Symbol\n",
              "Composite_Element_REF Symbol Num             ...              \n",
              "cg00000029            0               chr16  ...          RBL2\n",
              "cg00000108            0                chr3  ...       C3orf35\n",
              "cg00000109            0                chr3  ...        FNDC3B\n",
              "cg00000165            0                chr1  ...       OpenSea\n",
              "cg00000236            0                chr8  ...         VDAC3\n",
              "...                                     ...  ...           ...\n",
              "cg00003173            1                chr3  ...        CHCHD4\n",
              "cg00003181            0                chr6  ...  RP11-545I5.3\n",
              "cg00003187            0                chr1  ...          RERE\n",
              "cg00003202            0                chr1  ...          RFX5\n",
              "                      1                chr1  ...  RP11-126K1.6\n",
              "\n",
              "[100 rows x 9 columns]"
            ]
          },
          "metadata": {},
          "execution_count": 38
        }
      ]
    },
    {
      "cell_type": "code",
      "metadata": {
        "id": "Ax5fp5gUfRxR"
      },
      "source": [
        "df_ordered_long.to_csv(out_csv)"
      ],
      "execution_count": null,
      "outputs": []
    },
    {
      "cell_type": "markdown",
      "metadata": {
        "id": "_FW1_6VtNE51"
      },
      "source": [
        "#Long Reduction"
      ]
    },
    {
      "cell_type": "code",
      "metadata": {
        "colab": {
          "base_uri": "https://localhost:8080/"
        },
        "id": "mgt8qaq1NGkY",
        "outputId": "2b13a767-4f13-482b-b7e2-084cc0f5f93d"
      },
      "source": [
        "import pandas as pd\n",
        "from google.colab import drive\n",
        "drive.mount('/content/drive', force_remount = True)"
      ],
      "execution_count": null,
      "outputs": [
        {
          "output_type": "stream",
          "name": "stdout",
          "text": [
            "Mounted at /content/drive\n"
          ]
        }
      ]
    },
    {
      "cell_type": "code",
      "metadata": {
        "id": "BJQ3hMf_Oc-1"
      },
      "source": [
        "# Define Path\n",
        "long_csv = 'drive/My Drive/Colab Notebooks/DL Gomes Lab/wide_to_long/MarkerData_450k_All_Modified_Long.csv'\n",
        "list_csv = 'drive/My Drive/Colab Notebooks/DL Gomes Lab/wide_to_long/450_sim_AnovaRF_markers_woSMOTE_list.csv'\n",
        "out_csv = 'drive/My Drive/Colab Notebooks/DL Gomes Lab/wide_to_long/New_450k_sim_AnovaRF_ReducedMarkerData_woSMOTE.csv'"
      ],
      "execution_count": null,
      "outputs": []
    },
    {
      "cell_type": "code",
      "metadata": {
        "id": "dSRu9OZkOsXD"
      },
      "source": [
        "# Read CSV\n",
        "df_long = pd.read_csv(long_csv)\n",
        "df_list = pd.read_csv(list_csv)\n",
        "\n",
        "#Drop Unecassary Columns\n",
        "df_list = df_list.drop(labels=['Unnamed: 0'], axis=1)\n",
        "df_list = df_list.sort_values(by=['Reduced_Markers_AnovaRF'])"
      ],
      "execution_count": null,
      "outputs": []
    },
    {
      "cell_type": "code",
      "metadata": {
        "colab": {
          "base_uri": "https://localhost:8080/"
        },
        "id": "LG3GzWWxTarL",
        "outputId": "4454445e-131a-470c-b101-5b55509a28d9"
      },
      "source": [
        "print(df_list)"
      ],
      "execution_count": null,
      "outputs": [
        {
          "output_type": "stream",
          "name": "stdout",
          "text": [
            "     Reduced_Markers_AnovaRF\n",
            "1009              cg00000029\n",
            "1010              cg00000165\n",
            "1011              cg00000236\n",
            "1012              cg00000289\n",
            "1013              cg00000292\n",
            "...                      ...\n",
            "989               cg07871590\n",
            "176               cg07891457\n",
            "451               cg07899076\n",
            "454               cg07904051\n",
            "894               cg07910680\n",
            "\n",
            "[1044 rows x 1 columns]\n"
          ]
        }
      ]
    },
    {
      "cell_type": "code",
      "source": [
        "print(df_long)"
      ],
      "metadata": {
        "colab": {
          "base_uri": "https://localhost:8080/"
        },
        "id": "QBZNaUl--BHt",
        "outputId": "f966821d-3497-4db7-ffdc-4378a3962be0"
      },
      "execution_count": null,
      "outputs": [
        {
          "output_type": "stream",
          "name": "stdout",
          "text": [
            "       Composite_Element_REF  Symbol Num  ... Feature_Type    Gene_Symbol\n",
            "0                 cg00000029           0  ...      N_Shore           RBL2\n",
            "1                 cg00000108           0  ...      OpenSea        C3orf35\n",
            "2                 cg00000109           0  ...      OpenSea         FNDC3B\n",
            "3                 cg00000165           0  ...      S_Shore        OpenSea\n",
            "4                 cg00000236           0  ...      OpenSea          VDAC3\n",
            "...                      ...         ...  ...          ...            ...\n",
            "623028             rs9363764           0  ...      OpenSea        OpenSea\n",
            "623029              rs939290           0  ...      OpenSea        OpenSea\n",
            "623030              rs951295           0  ...      S_Shelf  RP11-718O11.1\n",
            "623031              rs966367           0  ...      OpenSea     AC096559.1\n",
            "623032             rs9839873           0  ...      OpenSea        OpenSea\n",
            "\n",
            "[623033 rows x 11 columns]\n"
          ]
        }
      ]
    },
    {
      "cell_type": "code",
      "source": [
        "df_long = df_long.rename(columns={\"Composite Element REF\":\"Composite_Element_REF\"})"
      ],
      "metadata": {
        "id": "dN7TeouM_DKE"
      },
      "execution_count": null,
      "outputs": []
    },
    {
      "cell_type": "code",
      "metadata": {
        "id": "IZuU2KEJO1Lz"
      },
      "source": [
        "df_reduced = df_long.merge(df_list, how='inner', left_on = 'Composite_Element_REF', right_on='Reduced_Markers_AnovaRF')"
      ],
      "execution_count": null,
      "outputs": []
    },
    {
      "cell_type": "code",
      "metadata": {
        "colab": {
          "base_uri": "https://localhost:8080/"
        },
        "id": "3aioW8kgPutS",
        "outputId": "a22ff963-bb93-4dde-c767-4d20111fad83"
      },
      "source": [
        "print(df_reduced)"
      ],
      "execution_count": null,
      "outputs": [
        {
          "output_type": "stream",
          "name": "stdout",
          "text": [
            "     Composite_Element_REF  Symbol Num  ... Gene_Symbol  Reduced_Markers_AnovaRF\n",
            "0               cg00000029           0  ...        RBL2               cg00000029\n",
            "1               cg00000165           0  ...     OpenSea               cg00000165\n",
            "2               cg00000236           0  ...       VDAC3               cg00000236\n",
            "3               cg00000289           0  ...       ACTN1               cg00000289\n",
            "4               cg00000292           0  ...      ATP2A1               cg00000292\n",
            "...                    ...         ...  ...         ...                      ...\n",
            "1377            cg07871590           1  ...        SND1               cg07871590\n",
            "1378            cg07891457           0  ...     ALDH3B2               cg07891457\n",
            "1379            cg07899076           0  ...      RNF216               cg07899076\n",
            "1380            cg07904051           0  ...     SLC6A12               cg07904051\n",
            "1381            cg07910680           0  ...       ALPK2               cg07910680\n",
            "\n",
            "[1382 rows x 12 columns]\n"
          ]
        }
      ]
    },
    {
      "cell_type": "code",
      "metadata": {
        "id": "ZvWrEpScQBS5"
      },
      "source": [
        "df_reduced.to_csv(out_csv)"
      ],
      "execution_count": null,
      "outputs": []
    }
  ]
}